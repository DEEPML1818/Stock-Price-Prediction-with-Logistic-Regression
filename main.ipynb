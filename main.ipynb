{
 "cells": [
  {
   "cell_type": "code",
   "execution_count": null,
   "metadata": {},
   "outputs": [],
   "source": [
    "import yfinance as yf\n",
    "from sklearn.linear_model import LogisticRegression\n",
    "\n",
    "df = yf.download(\"^GSPC\", start=\"2012-01-01\", end=\"2022-12-31\")\n",
    "\n",
    "df_filter = df[\"Adj Close\"].pct_change() * 100\n",
    "df_filter = df_filter.rename(\"Today\")\n",
    "df_filter = df_filter.reset_index()\n",
    " \n",
    "df_filter[\"Volume\"] = df[\"Volume\"].shift(1).values / 1000_000_000\n",
    "\n",
    "for i in range(1,6):\n",
    "    df_filter[\"Lag \" + str(i)] = df_filter[\"Today\"].shift(i)\n",
    "\n",
    "df_filter = df_filter.dropna()\n",
    "    \n",
    "df_filter[\"Direction\"] = [1 if i > 0 else 0 for i in df_filter[\"Today\"]]\n",
    "\n",
    "X = df_filter[[\"Lag 1\", \"Lag 2\", \"Lag 3\", \"Lag 4\", \"Lag 5\", \"Volume\"]]\n",
    "y = df_filter[[\"Direction\"]]\n",
    "\n",
    "X_train = X[0:2000]\n",
    "X_test = X[2000:]\n",
    "\n",
    "y_train = y[0:2000]\n",
    "y_test = y[2000:]\n",
    "\n",
    "clf = LogisticRegression().fit(X_train, y_train)\n",
    "\n",
    "clf.score(X_test, y_test)"
   ]
  }
 ],
 "metadata": {
  "kernelspec": {
   "display_name": "Python 3",
   "language": "python",
   "name": "python3"
  },
  "language_info": {
   "name": "python",
   "version": "3.9.13 (tags/v3.9.13:6de2ca5, May 17 2022, 16:36:42) [MSC v.1929 64 bit (AMD64)]"
  },
  "orig_nbformat": 4,
  "vscode": {
   "interpreter": {
    "hash": "b632dcc83ff5927942d6d9ce4967f5155bb6ecfd8a74c01d0bb5eeb3cc54d9f0"
   }
  }
 },
 "nbformat": 4,
 "nbformat_minor": 2
}
